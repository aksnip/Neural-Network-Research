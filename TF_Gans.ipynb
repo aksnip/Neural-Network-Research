{
 "cells": [
  {
   "cell_type": "code",
   "execution_count": 1,
   "metadata": {
    "id": "BCSGKZcJDnx7"
   },
   "outputs": [],
   "source": [
    "import tensorflow as tf\n",
    "import numpy as np\n",
    "import matplotlib.pyplot as plt\n",
    "import cv2\n",
    "from keras.utils import to_categorical  # Only for categorical one hot encoding\n",
    "from tensorflow.keras import layers"
   ]
  },
  {
   "cell_type": "code",
   "execution_count": 2,
   "metadata": {},
   "outputs": [
    {
     "name": "stdout",
     "output_type": "stream",
     "text": [
      "1 Physical GPUs, 1 Logical GPUs\n"
     ]
    }
   ],
   "source": [
    "gpus = tf.config.experimental.list_physical_devices('GPU')\n",
    "if gpus:\n",
    "    try:\n",
    "        # Currently, memory growth needs to be the same across GPUs\n",
    "        for gpu in gpus:\n",
    "            tf.config.experimental.set_memory_growth(gpu, True)\n",
    "        logical_gpus = tf.config.experimental.list_logical_devices('GPU')\n",
    "        print(len(gpus), \"Physical GPUs,\", len(logical_gpus), \"Logical GPUs\")\n",
    "    except RuntimeError as e:\n",
    "        # Memory growth must be set before GPUs have been initialized\n",
    "        print(e)"
   ]
  },
  {
   "cell_type": "code",
   "execution_count": 3,
   "metadata": {
    "colab": {
     "base_uri": "https://localhost:8080/",
     "height": 68
    },
    "id": "iPFOgjFKEjWV",
    "outputId": "e75bf873-4d00-4698-ed03-ad62482a1bd4"
   },
   "outputs": [
    {
     "data": {
      "text/plain": [
       "(60000, 784)"
      ]
     },
     "execution_count": 3,
     "metadata": {},
     "output_type": "execute_result"
    }
   ],
   "source": [
    "(x_train, y_train), (x_test, y_test) = tf.keras.datasets.mnist.load_data()\n",
    "\n",
    "# (x_train, y_train), (x_test, y_test) = tf.keras.datasets.fashion_mnist.load_data()\n",
    "cy_train = np.array(to_categorical(y_train))\n",
    "cy_test = np.array(to_categorical(y_test))\n",
    "\n",
    "cx_train, cx_test = np.array(x_train.reshape(-1, 784)/255.), np.array(x_test.reshape(-1, 784)/255.)\n",
    "cx_train.shape"
   ]
  },
  {
   "cell_type": "code",
   "execution_count": 4,
   "metadata": {
    "id": "9IbcHQAsFiJG"
   },
   "outputs": [],
   "source": [
    "cross_entropy = tf.keras.losses.BinaryCrossentropy(from_logits=True, reduction=tf.keras.losses.Reduction.SUM)\n",
    "\n",
    "def discriminator_loss(real_output, fake_output):\n",
    "    real_loss = cross_entropy(tf.ones_like(real_output), real_output)\n",
    "    fake_loss = cross_entropy(tf.zeros_like(fake_output), fake_output)\n",
    "#     total_loss = tf.concat((fake_loss, real_loss), axis=0)\n",
    "    total_loss = fake_loss + real_loss\n",
    "    return total_loss\n",
    "\n",
    "def generator_loss(fake_output):\n",
    "    return cross_entropy(tf.ones_like(fake_output), fake_output)"
   ]
  },
  {
   "cell_type": "code",
   "execution_count": 5,
   "metadata": {
    "id": "WCvSyhYbL9z0"
   },
   "outputs": [],
   "source": [
    "def generator():\n",
    "    model = tf.keras.Sequential()\n",
    "    model.add(layers.Dense(7*7*256, use_bias=False, input_shape=(100,)))\n",
    "    model.add(layers.BatchNormalization())\n",
    "    model.add(layers.LeakyReLU())\n",
    "\n",
    "    model.add(layers.Reshape((7, 7, 256)))\n",
    "\n",
    "    model.add(layers.Conv2DTranspose(128, (5, 5), strides=(1, 1), padding='same', use_bias=False))\n",
    "    model.add(layers.BatchNormalization())\n",
    "    model.add(layers.LeakyReLU())\n",
    "\n",
    "    model.add(layers.Conv2DTranspose(64, (5, 5), strides=(2, 2), padding='same', use_bias=False))\n",
    "    model.add(layers.BatchNormalization())\n",
    "    model.add(layers.LeakyReLU())\n",
    "\n",
    "    model.add(layers.Conv2DTranspose(1, (5, 5), strides=(2, 2), padding='same', use_bias=False, activation='tanh'))\n",
    "\n",
    "    return model\n",
    "\n",
    "def discriminator():\n",
    "    model = tf.keras.Sequential()\n",
    "    model.add(layers.Conv2D(64, (5, 5), strides=(2, 2), padding='same',\n",
    "                                     input_shape=[28, 28, 1]))\n",
    "    model.add(layers.LeakyReLU())\n",
    "    model.add(layers.Dropout(0.3))\n",
    "\n",
    "    model.add(layers.Conv2D(128, (5, 5), strides=(2, 2), padding='same'))\n",
    "    model.add(layers.LeakyReLU())\n",
    "    model.add(layers.Dropout(0.3))\n",
    "\n",
    "    model.add(layers.Flatten())\n",
    "    model.add(layers.Dense(1))\n",
    "\n",
    "    return model"
   ]
  },
  {
   "cell_type": "code",
   "execution_count": 6,
   "metadata": {
    "id": "Ab6RYkm6Fw92"
   },
   "outputs": [],
   "source": [
    "gen = generator()\n",
    "des = discriminator()\n",
    "\n",
    "generator_optimizer = tf.keras.optimizers.Adam(1e-4)\n",
    "discriminator_optimizer = tf.keras.optimizers.Adam(1e-4)"
   ]
  },
  {
   "cell_type": "code",
   "execution_count": 7,
   "metadata": {
    "id": "jQgQY8nVE4XY"
   },
   "outputs": [],
   "source": [
    "# @tf.function\n",
    "def trainDes(gen, des, real, batch_size):\n",
    "    with tf.GradientTape() as disc_tape:\n",
    "        noise = tf.random.normal([batch_size, 100])\n",
    "        fake = gen(noise, training=False)\n",
    "        X = tf.concat((fake, real), axis=0)\n",
    "        pred = des(X, training=True)\n",
    "\n",
    "        fake_output = pred[:batch_size]\n",
    "        real_output = pred[batch_size:]\n",
    "\n",
    "        des_loss = discriminator_loss(real_output, fake_output)\n",
    "        gradients_of_discriminator = disc_tape.gradient(des_loss, des.trainable_variables)\n",
    "        discriminator_optimizer.apply_gradients(zip(gradients_of_discriminator, des.trainable_variables))\n",
    "\n",
    "# @tf.function\n",
    "def trainDesGen(gen, des, real, batch_size):\n",
    "    with tf.GradientTape() as disc_tape, tf.GradientTape() as gen_tape:\n",
    "        noise = tf.random.normal([batch_size, 100])\n",
    "        fake = gen(noise, training=True)\n",
    "        X = tf.concat((fake, real), axis=0)\n",
    "        pred = des(X, training=True)\n",
    "\n",
    "        fake_output = pred[:batch_size]\n",
    "        real_output = pred[batch_size:]\n",
    "\n",
    "        des_loss = discriminator_loss(real_output, fake_output)\n",
    "\n",
    "        gradients_of_discriminator = disc_tape.gradient(des_loss, des.trainable_variables)\n",
    "        discriminator_optimizer.apply_gradients(zip(gradients_of_discriminator, des.trainable_variables))\n",
    "\n",
    "        gen_loss = generator_loss(fake_output)\n",
    "\n",
    "        gradients_of_generator = gen_tape.gradient(gen_loss, gen.trainable_variables)\n",
    "        generator_optimizer.apply_gradients(zip(gradients_of_generator, gen.trainable_variables))\n",
    "\n",
    "# @tf.function\n",
    "def trainGen(gen, des, batch_size):\n",
    "    with tf.GradientTape() as gen_tape:\n",
    "        noise = tf.random.normal([batch_size, 100])\n",
    "        fake = gen(noise, training=True)\n",
    "        fake_output = des(fake, training=False)\n",
    "        gen_loss = generator_loss(fake_output)\n",
    "        gradients_of_generator = gen_tape.gradient(gen_loss, gen.trainable_variables)\n",
    "        generator_optimizer.apply_gradients(zip(gradients_of_generator, gen.trainable_variables))\n",
    "\n",
    "def trainGan(realData, epochs=10, batch_size=5, loss='mse'):\n",
    "    realData = realData.reshape(tuple([-1, batch_size] + list(realData.shape[1:])))\n",
    "    print(realData.shape)\n",
    "    for epoch in range(epochs):\n",
    "        realData = tf.random.shuffle(realData)\n",
    "        for iter in range(len(realData)):\n",
    "            real = realData[iter]\n",
    "            real = tf.cast(real, tf.float32)  \n",
    "            trainDes(gen, des, real, batch_size)\n",
    "#             trainDes(gen, des, real, batch_size)\n",
    "            # trainDesGen(gen, des, real, batch_size)\n",
    "            trainGen(gen, des, batch_size)\n",
    "\n",
    "    noise = tf.random.normal([batch_size, 100])\n",
    "    fake = gen(noise, training=True)\n",
    "    print(\"Epoch \", epoch)\n",
    "    for i in range(10):#len(fake)):\n",
    "        plt.imshow(fake[i].numpy().reshape((28,28)))\n",
    "        plt.show()"
   ]
  },
  {
   "cell_type": "code",
   "execution_count": null,
   "metadata": {
    "colab": {
     "base_uri": "https://localhost:8080/",
     "height": 1000
    },
    "id": "B2f-ADz5HjJS",
    "outputId": "3d2c3609-b400-48a5-f5ef-5d6cc00c0c62"
   },
   "outputs": [
    {
     "name": "stdout",
     "output_type": "stream",
     "text": [
      "(1000, 60, 28, 28, 1)\n"
     ]
    }
   ],
   "source": [
    "trainGan(cx_train.reshape((-1, 28, 28, 1)), epochs=100, batch_size=60)"
   ]
  },
  {
   "cell_type": "code",
   "execution_count": null,
   "metadata": {
    "id": "29BBq9fcHleL"
   },
   "outputs": [],
   "source": [
    "1 "
   ]
  },
  {
   "cell_type": "code",
   "execution_count": null,
   "metadata": {
    "id": "m87RNQd3rtGA"
   },
   "outputs": [],
   "source": []
  }
 ],
 "metadata": {
  "accelerator": "GPU",
  "colab": {
   "collapsed_sections": [],
   "name": "Copy of TF Gans.ipynb",
   "provenance": []
  },
  "kernelspec": {
   "display_name": "Python 3",
   "language": "python",
   "name": "python3"
  },
  "language_info": {
   "codemirror_mode": {
    "name": "ipython",
    "version": 3
   },
   "file_extension": ".py",
   "mimetype": "text/x-python",
   "name": "python",
   "nbconvert_exporter": "python",
   "pygments_lexer": "ipython3",
   "version": "3.8.2"
  }
 },
 "nbformat": 4,
 "nbformat_minor": 4
}
